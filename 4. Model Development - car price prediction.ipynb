{
 "cells": [
  {
   "cell_type": "raw",
   "id": "c2d4e9ca-577a-4f0f-8ad2-65d0b80b9953",
   "metadata": {},
   "source": []
  },
  {
   "cell_type": "markdown",
   "id": "84b148d9-6458-4123-851a-f1612e6e80a8",
   "metadata": {},
   "source": [
    "# Model Development - Car Price Prediction"
   ]
  },
  {
   "cell_type": "markdown",
   "id": "6c2c26ec-6cb9-410a-93bc-0de741d5a7ab",
   "metadata": {},
   "source": [
    "Here were going a to assess various madels in order to identify the best fitting model for car price preodiction based on our data."
   ]
  },
  {
   "cell_type": "markdown",
   "id": "e0416ef2-1519-48ed-8917-a317b19c183b",
   "metadata": {},
   "source": [
    "Some questions we want to ask in this module\n",
    "\n",
    "- Do I know if the dealer is offering fair value for my trade-in?\n",
    "- Do I know if I put a fair value on my car?"
   ]
  },
  {
   "cell_type": "markdown",
   "id": "dd883616-6184-41dd-a179-7dadadddc814",
   "metadata": {},
   "source": [
    "## Table of Contents\n",
    "\n",
    "<div class=\"alert alert-block alert-info\" style=\"margin-top: 20px\">\n",
    "\n",
    "1.  [Linear Regression and Multiple Linear Regression](#0)<br>\n",
    "2.  [Model Evaluation Using Visualization](#2)<br>\n",
    "3.  [Polynomial Regression and Pipelines](#4) <br>\n",
    "4.  [Measures for In-Sample Evaluation](#6) <br>\n",
    "5.  [Prediction and Decision Making](#8) <br>\n",
    "\n",
    "</div>"
   ]
  },
  {
   "cell_type": "markdown",
   "id": "c979b36d-7d6f-43db-baad-e72b2402593c",
   "metadata": {},
   "source": [
    "#### setup"
   ]
  },
  {
   "cell_type": "code",
   "execution_count": 5,
   "id": "14162448-f823-47b5-a1b5-2050f8d21a7b",
   "metadata": {},
   "outputs": [],
   "source": [
    "import pandas as pd\n",
    "import numpy as np\n",
    "import matplotlib.pyplot as plt\n",
    "import warnings\n",
    "warnings.filterwarnings('ignore')"
   ]
  },
  {
   "cell_type": "code",
   "execution_count": 6,
   "id": "47610d9e-a231-4ea4-a671-789987625abb",
   "metadata": {},
   "outputs": [],
   "source": [
    "path = 'https://cf-courses-data.s3.us.cloud-object-storage.appdomain.cloud/IBMDeveloperSkillsNetwork-DA0101EN-SkillsNetwork/labs/Data%20files/automobileEDA.csv'"
   ]
  },
  {
   "cell_type": "raw",
   "id": "9106efef-7692-48b3-896c-7263b0b76ad3",
   "metadata": {},
   "source": [
    "Load the data and store it in dataframe df:"
   ]
  },
  {
   "cell_type": "code",
   "execution_count": 9,
   "id": "8f71b90c-c411-4aec-81de-cd4bda2abe3c",
   "metadata": {},
   "outputs": [],
   "source": [
    "df = pd.read_csv(path, header=0)"
   ]
  },
  {
   "cell_type": "raw",
   "id": "58b6e3e2-2ac8-42a6-9035-3bf5fccad959",
   "metadata": {},
   "source": []
  },
  {
   "cell_type": "markdown",
   "id": "7c4918e5-0734-4229-b911-7de83f94f667",
   "metadata": {},
   "source": [
    "## 1. Linear Regression and Multiple Linear Regression<a id=\"0\"></a>"
   ]
  },
  {
   "cell_type": "markdown",
   "id": "e5cc5e66-342e-4bb1-b4b6-96c46e82341c",
   "metadata": {},
   "source": [
    "### Linear Regression  _Yhat = a + bX_"
   ]
  },
  {
   "cell_type": "raw",
   "id": "987433d7-ec82-4588-854d-6c5c2fdf76db",
   "metadata": {},
   "source": [
    "load the modules for linear regression:"
   ]
  },
  {
   "cell_type": "code",
   "execution_count": 11,
   "id": "7c4c7c5a-141d-4df7-9117-5a431162ce01",
   "metadata": {},
   "outputs": [],
   "source": [
    "from sklearn.linear_model import LinearRegression"
   ]
  },
  {
   "cell_type": "raw",
   "id": "16a8b120-d920-478e-9a77-fe5b9c962842",
   "metadata": {},
   "source": [
    "Create the linear regression object:"
   ]
  },
  {
   "cell_type": "code",
   "execution_count": 12,
   "id": "b8f04a0c-7c58-42d3-baf1-ff56b3d4e9a0",
   "metadata": {},
   "outputs": [
    {
     "data": {
      "text/plain": [
       "LinearRegression()"
      ]
     },
     "execution_count": 12,
     "metadata": {},
     "output_type": "execute_result"
    }
   ],
   "source": [
    "lm = LinearRegression()\n",
    "lm"
   ]
  },
  {
   "cell_type": "markdown",
   "id": "57636991-697f-49a7-8065-a2849946bd93",
   "metadata": {},
   "source": [
    "#### How could \"highway-mpg\" help predict car price?"
   ]
  },
  {
   "cell_type": "code",
   "execution_count": 13,
   "id": "ef87d4e0-088d-4833-98d9-bc0740b7d5be",
   "metadata": {},
   "outputs": [],
   "source": [
    "X = df[['highway-mpg']]\n",
    "Y = df['price']"
   ]
  },
  {
   "cell_type": "markdown",
   "id": "2e817af1-4e71-4197-bf82-52c9b502aa41",
   "metadata": {},
   "source": [
    "##### Fit the linear model using highway-mpg:"
   ]
  },
  {
   "cell_type": "code",
   "execution_count": 14,
   "id": "14988443-31e3-408d-93af-06cf1b7eae3c",
   "metadata": {},
   "outputs": [
    {
     "data": {
      "text/plain": [
       "LinearRegression()"
      ]
     },
     "execution_count": 14,
     "metadata": {},
     "output_type": "execute_result"
    }
   ],
   "source": [
    "lm.fit(X,Y)"
   ]
  },
  {
   "cell_type": "raw",
   "id": "7e74f08c-3877-430d-a65e-95fdba9d68c6",
   "metadata": {},
   "source": [
    "output a prediction (given 'highway-mpg') oft the price yhat using a linear model"
   ]
  },
  {
   "cell_type": "code",
   "execution_count": 16,
   "id": "841c79ad-cd95-49d7-ad84-615090ad5c83",
   "metadata": {},
   "outputs": [
    {
     "data": {
      "text/plain": [
       "array([16236.50464347, 16236.50464347, 17058.23802179, 13771.3045085 ,\n",
       "       20345.17153508])"
      ]
     },
     "execution_count": 16,
     "metadata": {},
     "output_type": "execute_result"
    }
   ],
   "source": [
    "Yhat=lm.predict(X)\n",
    "Yhat[0:5]"
   ]
  },
  {
   "cell_type": "markdown",
   "id": "cb504ceb-2df0-4479-af20-adfa51915b73",
   "metadata": {},
   "source": [
    "#### What is the value of the intercept (a)?"
   ]
  },
  {
   "cell_type": "code",
   "execution_count": 17,
   "id": "db446902-4541-49b1-b7ef-d743cba348e1",
   "metadata": {},
   "outputs": [
    {
     "data": {
      "text/plain": [
       "38423.305858157386"
      ]
     },
     "execution_count": 17,
     "metadata": {},
     "output_type": "execute_result"
    }
   ],
   "source": [
    "lm.intercept_"
   ]
  },
  {
   "cell_type": "markdown",
   "id": "a078427e-2d5a-4633-b7ef-b9d4d67d33af",
   "metadata": {},
   "source": [
    "#### What is the value of the slope (b)?"
   ]
  },
  {
   "cell_type": "code",
   "execution_count": 18,
   "id": "3d2f7f7b-294a-4346-a30c-a5cefbbb72a2",
   "metadata": {},
   "outputs": [
    {
     "data": {
      "text/plain": [
       "array([-821.73337832])"
      ]
     },
     "execution_count": 18,
     "metadata": {},
     "output_type": "execute_result"
    }
   ],
   "source": [
    "lm.coef_"
   ]
  },
  {
   "cell_type": "markdown",
   "id": "bc4649ea-44e7-4781-9e2f-64f111995e0e",
   "metadata": {
    "tags": []
   },
   "source": [
    "#### Final estimated linear model:    __Price__ = 38423.31 - 821.73 x __highway-mpg__"
   ]
  },
  {
   "cell_type": "raw",
   "id": "2bfcab73-3471-4342-af8b-46bcb8b1d5a0",
   "metadata": {},
   "source": []
  },
  {
   "cell_type": "markdown",
   "id": "4242cffd-e4ae-4daf-b359-2bba5e5c7787",
   "metadata": {
    "tags": []
   },
   "source": [
    "#### How could \"engine-size\" help predict car price?"
   ]
  },
  {
   "cell_type": "code",
   "execution_count": 21,
   "id": "90f34b6c-42f4-418b-902b-33a171044850",
   "metadata": {},
   "outputs": [
    {
     "data": {
      "text/plain": [
       "LinearRegression()"
      ]
     },
     "execution_count": 21,
     "metadata": {},
     "output_type": "execute_result"
    }
   ],
   "source": [
    "# new Create a linear regression \n",
    "lm1 = LinearRegression()\n",
    "lm1"
   ]
  },
  {
   "cell_type": "raw",
   "id": "51c27ec1-1133-4431-9169-1fdb3a9ec81d",
   "metadata": {},
   "source": [
    "Train the model using \"engine-size\" as the independent variable and \"price\" as the dependent variable"
   ]
  },
  {
   "cell_type": "code",
   "execution_count": 22,
   "id": "4468287f-9480-4498-bc92-a1fbeb59cabc",
   "metadata": {},
   "outputs": [
    {
     "data": {
      "text/plain": [
       "LinearRegression()"
      ]
     },
     "execution_count": 22,
     "metadata": {},
     "output_type": "execute_result"
    }
   ],
   "source": [
    "lm1.fit(df[['engine-size']], df[['price']])\n",
    "lm1"
   ]
  },
  {
   "cell_type": "markdown",
   "id": "84201a22-8cee-4671-bd5d-06fcf8de295d",
   "metadata": {},
   "source": [
    "#### Slope"
   ]
  },
  {
   "cell_type": "code",
   "execution_count": 23,
   "id": "3fc8d2ab-73f7-4386-aa97-3929efe2da98",
   "metadata": {},
   "outputs": [
    {
     "data": {
      "text/plain": [
       "array([[166.86001569]])"
      ]
     },
     "execution_count": 23,
     "metadata": {},
     "output_type": "execute_result"
    }
   ],
   "source": [
    "lm1.coef_"
   ]
  },
  {
   "cell_type": "markdown",
   "id": "495a30d6-d992-42cf-a05b-63e319c7a305",
   "metadata": {},
   "source": [
    "#### Intercept"
   ]
  },
  {
   "cell_type": "code",
   "execution_count": 24,
   "id": "1306de8a-59ca-40cf-bded-4a9f795105c2",
   "metadata": {},
   "outputs": [
    {
     "data": {
      "text/plain": [
       "array([-7963.33890628])"
      ]
     },
     "execution_count": 24,
     "metadata": {},
     "output_type": "execute_result"
    }
   ],
   "source": [
    "lm1.intercept_"
   ]
  },
  {
   "cell_type": "markdown",
   "id": "50e22f2a-3cdc-4725-86a8-45eb871590f4",
   "metadata": {},
   "source": [
    "#### Final estimated linear model: __Price__ = 166.86 -7963.33 x __engine-size__"
   ]
  },
  {
   "cell_type": "code",
   "execution_count": null,
   "id": "07c032b9-38ff-4dc7-b8cd-9feff03a49c1",
   "metadata": {},
   "outputs": [],
   "source": []
  },
  {
   "cell_type": "markdown",
   "id": "c584abbf-7116-4d51-a719-4bf6b9bf2f1f",
   "metadata": {},
   "source": [
    "###  Multiple Linear Regression   _Yhat = a + b_1X_1 +  b_2X_2 +  b_3X_3 +  b_4X_4_"
   ]
  },
  {
   "cell_type": "markdown",
   "id": "4601058f-dea6-4f75-b38b-12138d839016",
   "metadata": {},
   "source": [
    "From the data analysis section, we know that other good predictors of price could be:\n",
    "    \n",
    "- Horsepower\n",
    "- Curb-weight\n",
    "- Engine-size\n",
    "- Highway-mpg\n",
    "\n",
    "Let's develop a model using these variables as the predictor variables.\n",
    "    "
   ]
  },
  {
   "cell_type": "code",
   "execution_count": 27,
   "id": "b50eaeb3-8e73-4f54-9cbb-aba8d3f21f62",
   "metadata": {},
   "outputs": [],
   "source": [
    "Z = df[['horsepower', 'curb-weight', 'engine-size', 'highway-mpg']]"
   ]
  },
  {
   "cell_type": "markdown",
   "id": "ed7f9ece-4641-41ed-81f3-e24dcc357437",
   "metadata": {},
   "source": [
    "#### Fit the linear model"
   ]
  },
  {
   "cell_type": "code",
   "execution_count": 28,
   "id": "9225a171-ed98-4370-90f4-15d815522de5",
   "metadata": {},
   "outputs": [
    {
     "data": {
      "text/plain": [
       "LinearRegression()"
      ]
     },
     "execution_count": 28,
     "metadata": {},
     "output_type": "execute_result"
    }
   ],
   "source": [
    "lm.fit(Z, df['price'])"
   ]
  },
  {
   "cell_type": "code",
   "execution_count": 29,
   "id": "e9569200-2fe9-438f-86cd-cfd85ee8a8fc",
   "metadata": {},
   "outputs": [
    {
     "data": {
      "text/plain": [
       "-15806.624626329198"
      ]
     },
     "execution_count": 29,
     "metadata": {},
     "output_type": "execute_result"
    }
   ],
   "source": [
    "lm.intercept_"
   ]
  },
  {
   "cell_type": "raw",
   "id": "e6ecfde0-e792-4eab-a16a-7b5d478fad63",
   "metadata": {},
   "source": [
    "lm.coef_"
   ]
  },
  {
   "cell_type": "markdown",
   "id": "c849c8e1-f8fc-40e2-8519-ca21763b459b",
   "metadata": {
    "tags": []
   },
   "source": [
    "#### Final estimated linear model:  __Price__ = -15678.742628061467 + 52.65851272 x __horsepower__ + 4.69878948 x __curb-weight__ + 81.95906216 x __engine-size__ + 33.58258185 x __highway-mpg__"
   ]
  },
  {
   "cell_type": "code",
   "execution_count": null,
   "id": "d3112628-dfc1-4c1f-860e-ac1e5c4c1d35",
   "metadata": {},
   "outputs": [],
   "source": []
  },
  {
   "cell_type": "code",
   "execution_count": null,
   "id": "b589ab16-6b4c-4f11-b4da-f99168950696",
   "metadata": {},
   "outputs": [],
   "source": [
    "extra model: Regression model  \"normalized-losses\" and \"highway-mpg\" to predict price"
   ]
  },
  {
   "cell_type": "code",
   "execution_count": 31,
   "id": "b53278ac-3e8f-48a3-8de1-7f1e2a472c5c",
   "metadata": {},
   "outputs": [
    {
     "data": {
      "text/plain": [
       "array([   1.49789586, -820.45434016])"
      ]
     },
     "execution_count": 31,
     "metadata": {},
     "output_type": "execute_result"
    }
   ],
   "source": [
    "lm2 = LinearRegression()\n",
    "lm2.fit(df[['normalized-losses' , 'highway-mpg']],df['price'])\n",
    "lm2.coef_"
   ]
  },
  {
   "cell_type": "code",
   "execution_count": null,
   "id": "b1a8aac8-d21b-4f6a-8716-444ac14f2169",
   "metadata": {},
   "outputs": [],
   "source": []
  },
  {
   "cell_type": "code",
   "execution_count": null,
   "id": "c530ab1d-973d-4bf3-b250-746a28cd99a0",
   "metadata": {},
   "outputs": [],
   "source": []
  },
  {
   "cell_type": "markdown",
   "id": "3b189450-6dcc-4140-9019-e9a0c45d0f25",
   "metadata": {
    "tags": []
   },
   "source": [
    "## 2. Model Evaluation Using Visualization <a id=\"2\"></a>"
   ]
  },
  {
   "cell_type": "raw",
   "id": "5b33cb24-d145-4fdc-bcec-b631e6053207",
   "metadata": {},
   "source": [
    "Lets eveluated some models with viualizations"
   ]
  },
  {
   "cell_type": "code",
   "execution_count": null,
   "id": "195f992b-9e23-4324-a0da-69aa48af6d7d",
   "metadata": {},
   "outputs": [],
   "source": []
  },
  {
   "cell_type": "code",
   "execution_count": 32,
   "id": "a558bad6-a0f9-4ea4-baa6-d6073ae7b05f",
   "metadata": {},
   "outputs": [],
   "source": [
    "# import the visualization package: seaborn\n",
    "import seaborn as sns\n",
    "%matplotlib inline "
   ]
  },
  {
   "cell_type": "code",
   "execution_count": null,
   "id": "117cb4ea-1ef6-4b1f-87ce-522adde9aef6",
   "metadata": {},
   "outputs": [],
   "source": []
  },
  {
   "cell_type": "markdown",
   "id": "5506878e-f377-4fdd-9917-9504942d8e50",
   "metadata": {},
   "source": [
    "#### Regression Plot"
   ]
  },
  {
   "cell_type": "markdown",
   "id": "55e87fc6-661b-4722-b82f-e94bee40e863",
   "metadata": {},
   "source": [
    "Let's visualize __highway-mpg__ as potential predictor variable of price:"
   ]
  },
  {
   "cell_type": "code",
   "execution_count": 35,
   "id": "95b6a854-2c53-45bb-a061-85e9cdb8a328",
   "metadata": {},
   "outputs": [
    {
     "data": {
      "text/plain": [
       "(0.0, 48170.412018618335)"
      ]
     },
     "execution_count": 35,
     "metadata": {},
     "output_type": "execute_result"
    },
    {
     "data": {
      "image/png": "[encoded data removed]",
      "text/plain": [
       "<Figure size 432x360 with 1 Axes>"
      ]
     },
     "metadata": {
      "needs_background": "light"
     },
     "output_type": "display_data"
    }
   ],
   "source": [
    "width = 6\n",
    "height = 5\n",
    "plt.figure(figsize=(width, height))\n",
    "sns.regplot(x=\"highway-mpg\", y=\"price\", data=df)\n",
    "plt.ylim(0,)"
   ]
  },
  {
   "cell_type": "markdown",
   "id": "f4a9dfcd-4a13-4a6e-8f8e-6afc18f9c2bc",
   "metadata": {},
   "source": [
    "_We can see from this plot that price is negatively correlated to highway-mpg since the regression slope is negative._"
   ]
  },
  {
   "cell_type": "markdown",
   "id": "7229de66-913d-4a0e-a163-f6dbf14df9ba",
   "metadata": {},
   "source": [
    "Let's compare this plot to the regression plot of __\"peak-rpm\"__"
   ]
  },
  {
   "cell_type": "code",
   "execution_count": 37,
   "id": "0b53d9e7-1845-4d78-8260-dbf431234700",
   "metadata": {},
   "outputs": [
    {
     "data": {
      "text/plain": [
       "(0.0, 47414.1)"
      ]
     },
     "execution_count": 37,
     "metadata": {},
     "output_type": "execute_result"
    },
    {
     "data": {
      "image/png": "[encoded data removed]",
      "text/plain": [
       "<Figure size 432x360 with 1 Axes>"
      ]
     },
     "metadata": {
      "needs_background": "light"
     },
     "output_type": "display_data"
    }
   ],
   "source": [
    "plt.figure(figsize=(width, height))\n",
    "sns.regplot(x=\"peak-rpm\", y=\"price\", data=df)\n",
    "plt.ylim(0,)"
   ]
  },
  {
   "cell_type": "code",
   "execution_count": 40,
   "id": "d8ef4a25-e595-496b-b38b-0c460deb0040",
   "metadata": {},
   "outputs": [
    {
     "data": {
      "text/html": [
       "<div>\n",
       "<style scoped>\n",
       "    .dataframe tbody tr th:only-of-type {\n",
       "        vertical-align: middle;\n",
       "    }\n",
       "\n",
       "    .dataframe tbody tr th {\n",
       "        vertical-align: top;\n",
       "    }\n",
       "\n",
       "    .dataframe thead th {\n",
       "        text-align: right;\n",
       "    }\n",
       "</style>\n",
       "<table border=\"1\" class=\"dataframe\">\n",
       "  <thead>\n",
       "    <tr style=\"text-align: right;\">\n",
       "      <th></th>\n",
       "      <th>peak-rpm</th>\n",
       "      <th>highway-mpg</th>\n",
       "      <th>price</th>\n",
       "    </tr>\n",
       "  </thead>\n",
       "  <tbody>\n",
       "    <tr>\n",
       "      <th>peak-rpm</th>\n",
       "      <td>1.000000</td>\n",
       "      <td>-0.058598</td>\n",
       "      <td>-0.101616</td>\n",
       "    </tr>\n",
       "    <tr>\n",
       "      <th>highway-mpg</th>\n",
       "      <td>-0.058598</td>\n",
       "      <td>1.000000</td>\n",
       "      <td>-0.704692</td>\n",
       "    </tr>\n",
       "    <tr>\n",
       "      <th>price</th>\n",
       "      <td>-0.101616</td>\n",
       "      <td>-0.704692</td>\n",
       "      <td>1.000000</td>\n",
       "    </tr>\n",
       "  </tbody>\n",
       "</table>\n",
       "</div>"
      ],
      "text/plain": [
       "             peak-rpm  highway-mpg     price\n",
       "peak-rpm     1.000000    -0.058598 -0.101616\n",
       "highway-mpg -0.058598     1.000000 -0.704692\n",
       "price       -0.101616    -0.704692  1.000000"
      ]
     },
     "execution_count": 40,
     "metadata": {},
     "output_type": "execute_result"
    }
   ],
   "source": [
    "# The variable \"highway-mpg\" has a stronger correlation with \"price\", it is approximate -0.704692  compared to \"peak-rpm\" which is approximate -0.101616. You can verify it using the following command:\n",
    "\n",
    "df[[\"peak-rpm\",\"highway-mpg\",\"price\"]].corr()"
   ]
  },
  {
   "cell_type": "code",
   "execution_count": null,
   "id": "d5892a82-e19c-4c1e-9a73-74d3e0a31fa9",
   "metadata": {},
   "outputs": [],
   "source": []
  },
  {
   "cell_type": "markdown",
   "id": "02c6789d-06b2-481d-90a1-d61af4f67794",
   "metadata": {},
   "source": [
    "#### Residual Plot"
   ]
  },
  {
   "cell_type": "raw",
   "id": "a02a797c-39ce-4273-bde2-0488d994ae66",
   "metadata": {},
   "source": [
    "Lets visualize the variance of the data using a residual plot."
   ]
  },
  {
   "cell_type": "markdown",
   "id": "37c02778-58f8-4509-8ec7-788df752bbf0",
   "metadata": {},
   "source": [
    "__Note:__ - If the points in a residual plot are __randomly spread out around the x-axis__, then a __linear model is appropriate__ for the data.\n",
    "\n",
    "Why is that? Randomly spread out residuals means that the variance is constant, and thus the linear model is a good fit for this data."
   ]
  },
  {
   "cell_type": "code",
   "execution_count": 42,
   "id": "6b6aedfc-7d15-48a3-a0c4-d452362165c2",
   "metadata": {},
   "outputs": [
    {
     "data": {
      "image/png": "[encoded data removed]",
      "text/plain": [
       "<Figure size 432x360 with 1 Axes>"
      ]
     },
     "metadata": {
      "needs_background": "light"
     },
     "output_type": "display_data"
    }
   ],
   "source": [
    "width = 6\n",
    "height = 5\n",
    "plt.figure(figsize=(width, height))\n",
    "sns.residplot(x=df['highway-mpg'],y=df['price'])\n",
    "plt.show()"
   ]
  },
  {
   "cell_type": "markdown",
   "id": "b50d32ba-0fc9-4b0c-8514-5820c6661fe8",
   "metadata": {},
   "source": [
    "_The residuals are not randomly spread around the x-axis, thus a non-linear model is more appropriate for this data._"
   ]
  },
  {
   "cell_type": "code",
   "execution_count": null,
   "id": "fb538216-a8dc-4697-857e-6104127789c9",
   "metadata": {},
   "outputs": [],
   "source": []
  },
  {
   "cell_type": "markdown",
   "id": "b26f5d89-19c7-4849-96a3-b6f184d1c746",
   "metadata": {
    "tags": []
   },
   "source": [
    "#### Multiple Linear Regression evaluation"
   ]
  },
  {
   "cell_type": "markdown",
   "id": "0af99c42-7d8d-49f8-be3e-513021c2e2e7",
   "metadata": {},
   "source": [
    "To do this a comparison of the __distibution plot__ of fitted values(price prediction results)  vs distribution of the actual price values"
   ]
  },
  {
   "cell_type": "raw",
   "id": "65b44724-9e70-4edf-bfd5-10e79fd73586",
   "metadata": {},
   "source": [
    "First, let's make a prediction:"
   ]
  },
  {
   "cell_type": "code",
   "execution_count": 44,
   "id": "5749f7b0-c314-4a2e-8619-0b73151bd4bd",
   "metadata": {},
   "outputs": [],
   "source": [
    "Y_hat = lm.predict(Z)"
   ]
  },
  {
   "cell_type": "code",
   "execution_count": 46,
   "id": "7e46e9f6-4f4a-43c8-9b5e-5858ddfbc325",
   "metadata": {},
   "outputs": [
    {
     "data": {
      "image/png": "[encoded data removed]",
      "text/plain": [
       "<Figure size 432x360 with 1 Axes>"
      ]
     },
     "metadata": {
      "needs_background": "light"
     },
     "output_type": "display_data"
    }
   ],
   "source": [
    "plt.figure(figsize=(width, height))\n",
    "\n",
    "\n",
    "ax1 = sns.distplot(df['price'], hist=False, color=\"r\", label=\"Actual Value\")\n",
    "sns.distplot(Y_hat, hist=False, color=\"b\", label=\"Fitted Values\" , ax=ax1)\n",
    "\n",
    "\n",
    "plt.title('Actual vs Fitted Values for Price')\n",
    "plt.xlabel('Price (in dollars)')\n",
    "plt.ylabel('Proportion of Cars')\n",
    "\n",
    "plt.show()\n",
    "plt.close()"
   ]
  },
  {
   "cell_type": "markdown",
   "id": "3ba6bbc9-a6ca-4c35-8aa1-7793193f1505",
   "metadata": {},
   "source": [
    "_We can see that the fitted values are reasonably close to the actual values since the two distributions overlap a bit. However, there is definitely some room for improvement._"
   ]
  },
  {
   "cell_type": "code",
   "execution_count": null,
   "id": "d066c6bf-2f63-4773-82c5-ab7922c0779a",
   "metadata": {},
   "outputs": [],
   "source": []
  },
  {
   "cell_type": "code",
   "execution_count": null,
   "id": "f413bfef-0b73-4c01-9dc1-ce0aa57c8f3e",
   "metadata": {},
   "outputs": [],
   "source": []
  },
  {
   "cell_type": "markdown",
   "id": "6cee5979-6d53-474a-b7c8-1074a45febff",
   "metadata": {},
   "source": [
    "## 3. Polynomial Regression and Pipelines <a id=\"4\"></a>"
   ]
  },
  {
   "cell_type": "raw",
   "id": "fa803295-4808-45e4-9e44-6304af0a7611",
   "metadata": {},
   "source": [
    "y = a + b1x1 + b2x^2 + b3x^3.."
   ]
  },
  {
   "cell_type": "code",
   "execution_count": null,
   "id": "412a1484-0e4d-4eee-8021-7c352bba85ad",
   "metadata": {},
   "outputs": [],
   "source": []
  },
  {
   "cell_type": "raw",
   "id": "af22fb93-b3dc-4531-869c-7002c2e502e8",
   "metadata": {},
   "source": [
    "Let's fit polynomial model on  \"highway-mpg\"  as price predictor"
   ]
  },
  {
   "cell_type": "raw",
   "id": "5ca905c9-e6b4-49a1-88ff-7a5d1db7a2dc",
   "metadata": {},
   "source": [
    "We will use the following function to plot the data:"
   ]
  },
  {
   "cell_type": "code",
   "execution_count": 49,
   "id": "bc03b9de-ffda-4b18-b9c2-eba2531a5821",
   "metadata": {},
   "outputs": [],
   "source": [
    "def PlotPolly(model, independent_variable, dependent_variabble, Name):\n",
    "    x_new = np.linspace(15, 55, 100)\n",
    "    y_new = model(x_new)\n",
    "\n",
    "    plt.plot(independent_variable, dependent_variabble, '.', x_new, y_new, '-')\n",
    "    plt.title('Polynomial Fit with Matplotlib for Price ~ Length')\n",
    "    ax = plt.gca()\n",
    "    ax.set_facecolor((0.898, 0.898, 0.898))\n",
    "    fig = plt.gcf()\n",
    "    plt.xlabel(Name)\n",
    "    plt.ylabel('Price of Cars')\n",
    "\n",
    "    plt.show()\n",
    "    plt.close()"
   ]
  },
  {
   "cell_type": "raw",
   "id": "12460055-6771-45ae-955b-325103d8842f",
   "metadata": {},
   "source": [
    "Let's get the variables:"
   ]
  },
  {
   "cell_type": "code",
   "execution_count": 50,
   "id": "fa58c213-01df-4e7c-b70b-f47b92a99210",
   "metadata": {},
   "outputs": [],
   "source": [
    "x = df['highway-mpg']\n",
    "y = df['price']"
   ]
  },
  {
   "cell_type": "markdown",
   "id": "d1b64f14-5f20-4558-87b7-fec248cefe22",
   "metadata": {},
   "source": [
    "Let's fit the polynomial using the function __polyfit__, <br>\n",
    "then use the function __poly1d__ to display the polynomial function"
   ]
  },
  {
   "cell_type": "code",
   "execution_count": 51,
   "id": "484ff8a7-473a-49dc-9d1e-c0b072080e9a",
   "metadata": {},
   "outputs": [
    {
     "name": "stdout",
     "output_type": "stream",
     "text": [
      "        3         2\n",
      "-1.557 x + 204.8 x - 8965 x + 1.379e+05\n"
     ]
    }
   ],
   "source": [
    "# Here we use a polynomial of the 3rd order (cubic) \n",
    "f = np.polyfit(x, y, 3)\n",
    "p = np.poly1d(f)\n",
    "print(p)"
   ]
  },
  {
   "cell_type": "raw",
   "id": "d1f2715e-f022-426b-8a92-eb420e1a22d2",
   "metadata": {},
   "source": [
    "Let's plot the function:"
   ]
  },
  {
   "cell_type": "code",
   "execution_count": 52,
   "id": "c9f33604-9c6c-4cba-840b-0a5034c95bac",
   "metadata": {},
   "outputs": [
    {
     "data": {
      "image/png": "[encoded data removed]",
      "text/plain": [
       "<Figure size 432x288 with 1 Axes>"
      ]
     },
     "metadata": {
      "needs_background": "light"
     },
     "output_type": "display_data"
    }
   ],
   "source": [
    "PlotPolly(p, x, y, 'highway-mpg')"
   ]
  },
  {
   "cell_type": "code",
   "execution_count": 53,
   "id": "fabeab52-a6c7-46ab-8a91-f544c4dc5532",
   "metadata": {},
   "outputs": [
    {
     "data": {
      "text/plain": [
       "array([-1.55663829e+00,  2.04754306e+02, -8.96543312e+03,  1.37923594e+05])"
      ]
     },
     "execution_count": 53,
     "metadata": {},
     "output_type": "execute_result"
    }
   ],
   "source": [
    "np.polyfit(x, y, 3)"
   ]
  },
  {
   "cell_type": "raw",
   "id": "1d4bdf29-bb7d-4907-b640-72a316df768b",
   "metadata": {},
   "source": [
    "Let now try the same thing on a 11 order polynomial model"
   ]
  },
  {
   "cell_type": "code",
   "execution_count": 54,
   "id": "1b6f2950-b6c4-408f-9ce5-434c3e83450f",
   "metadata": {},
   "outputs": [
    {
     "name": "stdout",
     "output_type": "stream",
     "text": [
      "            11             10             9           8         7\n",
      "-1.243e-08 x  + 4.722e-06 x  - 0.0008028 x + 0.08056 x - 5.297 x\n",
      "          6        5             4             3             2\n",
      " + 239.5 x - 7588 x + 1.684e+05 x - 2.565e+06 x + 2.551e+07 x - 1.491e+08 x + 3.879e+08\n"
     ]
    },
    {
     "data": {
      "image/png": "[encoded data removed]",
      "text/plain": [
       "<Figure size 432x288 with 1 Axes>"
      ]
     },
     "metadata": {
      "needs_background": "light"
     },
     "output_type": "display_data"
    }
   ],
   "source": [
    "# Here we use a polynomial of the 11rd order (cubic) \n",
    "f1 = np.polyfit(x, y, 11)\n",
    "p1 = np.poly1d(f1)\n",
    "print(p1)\n",
    "PlotPolly(p1,x,y, 'Highway MPG')"
   ]
  },
  {
   "cell_type": "code",
   "execution_count": null,
   "id": "a426338e-c1ee-4fdb-baf2-154e740ad2a5",
   "metadata": {},
   "outputs": [],
   "source": []
  },
  {
   "cell_type": "raw",
   "id": "a928b466-cea5-4e5b-a94d-648f1a908ae7",
   "metadata": {},
   "source": [
    "The analytical expression for Multivariate Polynomial function gets complicated. <br>\n",
    "For example, the expression for a second-order (degree=2) polynomial with two variables is given by:"
   ]
  },
  {
   "cell_type": "raw",
   "id": "1ae676d0-5793-4fa5-87f7-a14aea001d70",
   "metadata": {},
   "source": [
    "Yhat = a + b1x1 + b2x^2 + b3x1x2 + b4x1^2 + b5x2^2"
   ]
  },
  {
   "cell_type": "raw",
   "id": "5b2c974b-e4d5-4fd6-be53-8d3e4f02a887",
   "metadata": {},
   "source": [
    "We can perform a polynomial transform on multiple features. "
   ]
  },
  {
   "cell_type": "code",
   "execution_count": 57,
   "id": "d6e8f1e3-3f3c-4d62-9f12-5426ff882ad9",
   "metadata": {},
   "outputs": [],
   "source": [
    "#we import the module\n",
    "\n",
    "from sklearn.preprocessing import PolynomialFeatures"
   ]
  },
  {
   "cell_type": "raw",
   "id": "a38720d5-2a33-49b1-b714-b8a178d3cfbd",
   "metadata": {},
   "source": [
    "We create a PolynomialFeatures object of degree 2:"
   ]
  },
  {
   "cell_type": "code",
   "execution_count": 58,
   "id": "2d0b249a-2fba-487b-b482-fa7378f00658",
   "metadata": {},
   "outputs": [
    {
     "data": {
      "text/plain": [
       "PolynomialFeatures()"
      ]
     },
     "execution_count": 58,
     "metadata": {},
     "output_type": "execute_result"
    }
   ],
   "source": [
    "pr=PolynomialFeatures(degree=2)\n",
    "pr"
   ]
  },
  {
   "cell_type": "code",
   "execution_count": 59,
   "id": "f136cddb-2a6b-4f41-9280-ef174cf2d8d0",
   "metadata": {},
   "outputs": [],
   "source": [
    "Z_pr=pr.fit_transform(Z)"
   ]
  },
  {
   "cell_type": "raw",
   "id": "0ac75129-eff3-4c74-8844-8d138653f87b",
   "metadata": {},
   "source": [
    "In the original data, there are 201 samples and 4 features."
   ]
  },
  {
   "cell_type": "code",
   "execution_count": 60,
   "id": "3a0b79a8-832e-469e-ac94-66499200a407",
   "metadata": {},
   "outputs": [
    {
     "data": {
      "text/plain": [
       "(201, 4)"
      ]
     },
     "execution_count": 60,
     "metadata": {},
     "output_type": "execute_result"
    }
   ],
   "source": [
    "Z.shape"
   ]
  },
  {
   "cell_type": "raw",
   "id": "0faf3b77-f6cd-48db-a5c5-ec623c090c14",
   "metadata": {},
   "source": [
    "After the transformation, there are 201 samples and 15 features."
   ]
  },
  {
   "cell_type": "code",
   "execution_count": 61,
   "id": "d0094311-1737-424f-828f-6dd9c9a615fa",
   "metadata": {},
   "outputs": [
    {
     "data": {
      "text/plain": [
       "(201, 15)"
      ]
     },
     "execution_count": 61,
     "metadata": {},
     "output_type": "execute_result"
    }
   ],
   "source": [
    "Z_pr.shape"
   ]
  },
  {
   "cell_type": "code",
   "execution_count": null,
   "id": "3f1b24c3-5436-43d6-a214-f5c9db7fd4c9",
   "metadata": {},
   "outputs": [],
   "source": []
  },
  {
   "cell_type": "markdown",
   "id": "0d6811ca-9213-4a68-b6c6-acf2eebdf13f",
   "metadata": {},
   "source": [
    "### Pipeline"
   ]
  },
  {
   "cell_type": "markdown",
   "id": "5da08f34-a2ba-48da-9fbe-62b2712e3797",
   "metadata": {},
   "source": [
    "Let's simpify data processind with __Pipeline__ ,  __StandardScaler__ will be used as a step in our pipeline"
   ]
  },
  {
   "cell_type": "code",
   "execution_count": 63,
   "id": "96d2d8c8-cdab-43de-b826-4d02e997b808",
   "metadata": {},
   "outputs": [],
   "source": [
    "from sklearn.pipeline import Pipeline\n",
    "from sklearn.preprocessing import StandardScaler"
   ]
  },
  {
   "cell_type": "raw",
   "id": "ea2e7ed5-ad58-4b43-90b6-8b15480f48c1",
   "metadata": {},
   "source": [
    "We create the pipeline by creating a list of tuples including the name of the model or estimator and its corresponding constructor."
   ]
  },
  {
   "cell_type": "code",
   "execution_count": 64,
   "id": "e5ef23b1-ba1f-457c-8a7b-d40e16f7274c",
   "metadata": {},
   "outputs": [],
   "source": [
    "Input=[('scale',StandardScaler()), ('polynomial', PolynomialFeatures(include_bias=False)), ('model',LinearRegression())]"
   ]
  },
  {
   "cell_type": "raw",
   "id": "cf27bac1-ab07-4078-b9df-2d8296ef5f70",
   "metadata": {},
   "source": [
    "We input the list as an argument to the pipeline constructor:"
   ]
  },
  {
   "cell_type": "code",
   "execution_count": 65,
   "id": "4d122aea-b3ae-4e0b-ba2c-acdb63aed77c",
   "metadata": {},
   "outputs": [
    {
     "data": {
      "text/plain": [
       "Pipeline(steps=[('scale', StandardScaler()),\n",
       "                ('polynomial', PolynomialFeatures(include_bias=False)),\n",
       "                ('model', LinearRegression())])"
      ]
     },
     "execution_count": 65,
     "metadata": {},
     "output_type": "execute_result"
    }
   ],
   "source": [
    "pipe=Pipeline(Input)\n",
    "pipe"
   ]
  },
  {
   "cell_type": "raw",
   "id": "a8704b2f-1345-4b2c-be01-9e5064eec01a",
   "metadata": {},
   "source": [
    "First, we convert the data type Z to type float to avoid conversion warnings that may appear as a result of StandardScaler taking float inputs.\n",
    "\n",
    "Then, we can normalize the data, perform a transform and fit the model simultaneously."
   ]
  },
  {
   "cell_type": "code",
   "execution_count": 66,
   "id": "eeca84bc-bcb9-4d27-abf1-6c0e91079290",
   "metadata": {},
   "outputs": [
    {
     "data": {
      "text/plain": [
       "Pipeline(steps=[('scale', StandardScaler()),\n",
       "                ('polynomial', PolynomialFeatures(include_bias=False)),\n",
       "                ('model', LinearRegression())])"
      ]
     },
     "execution_count": 66,
     "metadata": {},
     "output_type": "execute_result"
    }
   ],
   "source": [
    "Z = Z.astype(float)\n",
    "pipe.fit(Z,y)"
   ]
  },
  {
   "cell_type": "raw",
   "id": "0f1c1778-9533-4956-b5c1-afd8932b9d3f",
   "metadata": {},
   "source": [
    "Similarly, we can normalize the data, perform a transform and produce a prediction simultaneously."
   ]
  },
  {
   "cell_type": "code",
   "execution_count": 67,
   "id": "89283ca1-f1c2-42e4-b5de-7e85e85ace23",
   "metadata": {},
   "outputs": [
    {
     "data": {
      "text/plain": [
       "array([13102.74784201, 13102.74784201, 18225.54572197, 10390.29636555])"
      ]
     },
     "execution_count": 67,
     "metadata": {},
     "output_type": "execute_result"
    }
   ],
   "source": [
    "ypipe=pipe.predict(Z)\n",
    "ypipe[0:4]"
   ]
  },
  {
   "cell_type": "raw",
   "id": "950262ea-5a5e-4c8b-be43-6f038b6a2054",
   "metadata": {},
   "source": [
    "pipeline that standardizes the data, then produce a prediction using a linear regression model using the features Z and target y"
   ]
  },
  {
   "cell_type": "code",
   "execution_count": 68,
   "id": "6c428d09-7e21-492b-9790-654abca70466",
   "metadata": {},
   "outputs": [
    {
     "data": {
      "text/plain": [
       "array([13699.11161184, 13699.11161184, 19051.65470233, 10620.36193015,\n",
       "       15521.31420211, 13869.66673213, 15456.16196732, 15974.00907672,\n",
       "       17612.35917161, 10722.32509097])"
      ]
     },
     "execution_count": 68,
     "metadata": {},
     "output_type": "execute_result"
    }
   ],
   "source": [
    "Input=[('scale',StandardScaler()),('model',LinearRegression())]\n",
    "\n",
    "pipe=Pipeline(Input)\n",
    "\n",
    "pipe.fit(Z,y)\n",
    "\n",
    "ypipe=pipe.predict(Z)\n",
    "ypipe[0:10]"
   ]
  },
  {
   "cell_type": "code",
   "execution_count": null,
   "id": "08be7932-3b58-43b0-81b3-8cd3cdbb8527",
   "metadata": {},
   "outputs": [],
   "source": []
  },
  {
   "cell_type": "code",
   "execution_count": null,
   "id": "95f80ae5-8001-4e73-a388-6d155c77f941",
   "metadata": {},
   "outputs": [],
   "source": []
  },
  {
   "cell_type": "markdown",
   "id": "a0b2f1a3-017e-40bb-99e3-47228261aa1f",
   "metadata": {},
   "source": [
    "## 4. Measures for In-Sample Evaluation <a id=\"6\"></a>"
   ]
  },
  {
   "cell_type": "raw",
   "id": "7f017463-30d0-49b0-aa01-508f9191ec90",
   "metadata": {},
   "source": [
    "In additional to visual evaluation, we also evaluate quantitative measure to determine how accurate the model is."
   ]
  },
  {
   "cell_type": "markdown",
   "id": "8a2d07ee-6323-474f-8367-78318e494a73",
   "metadata": {},
   "source": [
    " __model accuracy measures:__\n",
    "- __R^2 / R-squared__ is a measure to indicate how close the data is to the fitted regression line\n",
    "- __Mean Squared Error (MSE)__  measure the difference between actual value (y) and the estimated value (ŷ)."
   ]
  },
  {
   "cell_type": "code",
   "execution_count": null,
   "id": "9160081b-1f79-4ace-8b30-7906a795adaa",
   "metadata": {},
   "outputs": [],
   "source": []
  },
  {
   "cell_type": "markdown",
   "id": "b516f5f5-c6d5-4f98-819d-a4f46ae6c7bd",
   "metadata": {},
   "source": [
    "### Model 1: Simple Linear Regression"
   ]
  },
  {
   "cell_type": "markdown",
   "id": "15aee730-a59b-4a5d-bd54-58049c9b987e",
   "metadata": {},
   "source": [
    "##### Let's calculate the R^2:"
   ]
  },
  {
   "cell_type": "code",
   "execution_count": 69,
   "id": "ec11e8bc-bf39-4c33-927f-709034a69b16",
   "metadata": {},
   "outputs": [
    {
     "name": "stdout",
     "output_type": "stream",
     "text": [
      "The R-square is:  0.4965911884339175\n"
     ]
    }
   ],
   "source": [
    "#highway_mpg_fit\n",
    "lm.fit(X, Y)\n",
    "# Find the R^2\n",
    "print('The R-square is: ', lm.score(X, Y))"
   ]
  },
  {
   "cell_type": "markdown",
   "id": "56b15d1e-fefc-4855-a1c9-7135d05b9027",
   "metadata": {},
   "source": [
    "_~49.659% of the variation of the price is explained by this simple linear model \"horsepower_fit\"._"
   ]
  },
  {
   "cell_type": "code",
   "execution_count": null,
   "id": "1f421ece-46ab-417c-af96-8cbff7bc30d1",
   "metadata": {},
   "outputs": [],
   "source": []
  },
  {
   "cell_type": "markdown",
   "id": "2df570d7-8cbf-4044-a29c-582daaf9a440",
   "metadata": {},
   "source": [
    "##### Let's calculate the MSE:"
   ]
  },
  {
   "cell_type": "raw",
   "id": "33747b62-d3aa-4204-88c7-ff229a10eb91",
   "metadata": {},
   "source": [
    "predict the output i.e., \"yhat\" "
   ]
  },
  {
   "cell_type": "code",
   "execution_count": 70,
   "id": "31933735-53a5-451f-99b0-8cd9ab7bcb8c",
   "metadata": {},
   "outputs": [
    {
     "name": "stdout",
     "output_type": "stream",
     "text": [
      "The output of the first four predicted value is:  [16236.50464347 16236.50464347 17058.23802179 13771.3045085 ]\n"
     ]
    }
   ],
   "source": [
    "Yhat=lm.predict(X)\n",
    "print('The output of the first four predicted value is: ', Yhat[0:4])"
   ]
  },
  {
   "cell_type": "code",
   "execution_count": null,
   "id": "5f0f31e2-ad37-430a-8a6a-c606b47b898b",
   "metadata": {},
   "outputs": [],
   "source": []
  },
  {
   "cell_type": "markdown",
   "id": "30950f29-a8aa-4791-91e9-8e87c20b8be7",
   "metadata": {},
   "source": [
    "import the function __mean_squared_error__ from the module __metrics__:"
   ]
  },
  {
   "cell_type": "code",
   "execution_count": 71,
   "id": "cd45992e-8fd5-470b-bbca-706bba18a811",
   "metadata": {},
   "outputs": [],
   "source": [
    "from sklearn.metrics import mean_squared_error"
   ]
  },
  {
   "cell_type": "code",
   "execution_count": null,
   "id": "bdbde899-85b5-40e3-af83-41d096117955",
   "metadata": {},
   "outputs": [],
   "source": [
    "Now compare the predicted results with the actual results:"
   ]
  },
  {
   "cell_type": "code",
   "execution_count": 72,
   "id": "38fc8795-0970-481f-9131-05bd78ab88da",
   "metadata": {},
   "outputs": [
    {
     "name": "stdout",
     "output_type": "stream",
     "text": [
      "The mean square error of price and predicted value is:  31635042.944639895\n"
     ]
    }
   ],
   "source": [
    "mse = mean_squared_error(df['price'], Yhat)\n",
    "print('The mean square error of price and predicted value is: ', mse)"
   ]
  },
  {
   "cell_type": "code",
   "execution_count": null,
   "id": "ce755624-e7bc-4d36-9efa-e74414e0a3e4",
   "metadata": {},
   "outputs": [],
   "source": []
  },
  {
   "cell_type": "markdown",
   "id": "bc079503-5699-448e-9200-3783db949279",
   "metadata": {},
   "source": [
    "### Model 2: Multiple Linear Regression"
   ]
  },
  {
   "cell_type": "markdown",
   "id": "6604a676-2b99-493a-86eb-4a40a5ffc02f",
   "metadata": {},
   "source": [
    "##### Let's calculate the R^2:"
   ]
  },
  {
   "cell_type": "code",
   "execution_count": 74,
   "id": "98b8206b-f4c2-4ef4-a1a9-9a034b9689db",
   "metadata": {},
   "outputs": [
    {
     "name": "stdout",
     "output_type": "stream",
     "text": [
      "The R-square is:  0.8093562806577457\n"
     ]
    }
   ],
   "source": [
    "# fit the model \n",
    "lm.fit(Z, df['price'])\n",
    "# Find the R^2\n",
    "print('The R-square is: ', lm.score(Z, df['price']))"
   ]
  },
  {
   "cell_type": "markdown",
   "id": "68462756-7ea3-4233-860b-891216be8428",
   "metadata": {},
   "source": [
    "_We can say that ~80.896 % of the variation of price is explained by this multiple linear regression \"multi_fit\"._"
   ]
  },
  {
   "cell_type": "code",
   "execution_count": null,
   "id": "27c428f2-5b62-4032-9cd1-e86f18c3e28e",
   "metadata": {},
   "outputs": [],
   "source": []
  },
  {
   "cell_type": "markdown",
   "id": "c0af53e8-b12f-47ee-a25a-612712bd24c7",
   "metadata": {},
   "source": [
    "##### Let's calculate the MSE."
   ]
  },
  {
   "cell_type": "code",
   "execution_count": 75,
   "id": "7fe3e262-c99d-4caa-aa79-66439344393b",
   "metadata": {},
   "outputs": [],
   "source": [
    "#We produce a prediction:\n",
    "\n",
    "Y_predict_multifit = lm.predict(Z)"
   ]
  },
  {
   "cell_type": "raw",
   "id": "8a64d2c6-6735-4368-be38-48cabf5a1025",
   "metadata": {},
   "source": [
    "We compare the predicted results with the actual results MSE:"
   ]
  },
  {
   "cell_type": "code",
   "execution_count": 76,
   "id": "17a2cacb-fb14-414f-aee7-4c93a810e80b",
   "metadata": {},
   "outputs": [
    {
     "name": "stdout",
     "output_type": "stream",
     "text": [
      "The mean square error of price and predicted value using multifit is:  11980366.87072649\n"
     ]
    }
   ],
   "source": [
    "print('The mean square error of price and predicted value using multifit is: ', \\\n",
    "      mean_squared_error(df['price'], Y_predict_multifit))"
   ]
  },
  {
   "cell_type": "code",
   "execution_count": null,
   "id": "0c778c67-71ac-44f9-8372-7c9de0e6f098",
   "metadata": {},
   "outputs": [],
   "source": []
  },
  {
   "cell_type": "markdown",
   "id": "adfa3e33-61cc-472f-b9c4-404cec114d3e",
   "metadata": {},
   "source": [
    "### Model 3: Polynomial Fit"
   ]
  },
  {
   "cell_type": "markdown",
   "id": "2d534a45-e86e-4a70-aeb7-6af57442c3c1",
   "metadata": {},
   "source": [
    "##### Let's calculate the R^2."
   ]
  },
  {
   "cell_type": "markdown",
   "id": "69f5903f-9cfa-4b3f-ac60-a32a22e210a0",
   "metadata": {},
   "source": [
    "Let’s import the function __r2_score__ from the module __metrics__ as we are using a different function."
   ]
  },
  {
   "cell_type": "code",
   "execution_count": 77,
   "id": "6fde96b8-4f25-449b-b7e4-5a8a5d64e5c2",
   "metadata": {},
   "outputs": [],
   "source": [
    "from sklearn.metrics import r2_score"
   ]
  },
  {
   "cell_type": "markdown",
   "id": "5d26bd11-2370-460b-a4c6-56a999cc810e",
   "metadata": {},
   "source": [
    "We apply the function to get the value of R^2:"
   ]
  },
  {
   "cell_type": "raw",
   "id": "38b27e14-8a40-484b-87f3-aff33b017ffd",
   "metadata": {},
   "source": [
    "r_squared = r2_score(y, p(x))\n",
    "print('The R-square value is: ', r_squared)"
   ]
  },
  {
   "cell_type": "markdown",
   "id": "bdf4a588-6797-41d6-a152-488c23cf8a37",
   "metadata": {},
   "source": [
    "_We can say that ~67.419 % of the variation of price is explained by this polynomial fit._"
   ]
  },
  {
   "cell_type": "code",
   "execution_count": null,
   "id": "4332a4cc-ec4a-4dab-9683-f5a4f29c69b0",
   "metadata": {},
   "outputs": [],
   "source": []
  },
  {
   "cell_type": "markdown",
   "id": "3ce14091-f2a8-410a-83ae-32a37e8754b0",
   "metadata": {},
   "source": [
    "#####  Let's calculate the MSE."
   ]
  },
  {
   "cell_type": "code",
   "execution_count": 79,
   "id": "575708d7-cf59-4463-8a29-89956c3c043a",
   "metadata": {},
   "outputs": [
    {
     "data": {
      "text/plain": [
       "20474146.426361218"
      ]
     },
     "execution_count": 79,
     "metadata": {},
     "output_type": "execute_result"
    }
   ],
   "source": [
    "mean_squared_error(df['price'], p(x))"
   ]
  },
  {
   "cell_type": "code",
   "execution_count": null,
   "id": "7f68fcdd-2061-4bab-b89c-c3b1f933e2d7",
   "metadata": {},
   "outputs": [],
   "source": []
  },
  {
   "cell_type": "markdown",
   "id": "a17af5b3-770f-4de8-a3d3-d6a1038e7581",
   "metadata": {},
   "source": [
    "## 5. Prediction and Decision Making <a id=\"8\"></a>"
   ]
  },
  {
   "cell_type": "code",
   "execution_count": null,
   "id": "ef37a2cf-277a-48f8-8a12-90b82255b745",
   "metadata": {},
   "outputs": [],
   "source": []
  },
  {
   "cell_type": "markdown",
   "id": "11507a74-e0e0-42f2-a8a3-5694e72595e3",
   "metadata": {},
   "source": [
    "### Prediction"
   ]
  },
  {
   "cell_type": "markdown",
   "id": "cfba7ebf-2ae0-4a96-b5d3-5d144c5f506a",
   "metadata": {},
   "source": [
    "we trained the model using the method fit. <br>\n",
    "Now we will use the method __predict__ to produce a prediction. <br>\n",
    "Lets import __pyplot__ for plotting; <br>\n",
    "we will also be using some functions from __numpy__.<br>"
   ]
  },
  {
   "cell_type": "code",
   "execution_count": 80,
   "id": "0853fbdf-089a-4b19-aa33-4fc862ce0de6",
   "metadata": {},
   "outputs": [],
   "source": [
    "import matplotlib.pyplot as plt\n",
    "import numpy as np\n",
    "\n",
    "%matplotlib inline "
   ]
  },
  {
   "cell_type": "raw",
   "id": "8b2cbbd6-6267-4219-9154-9f6e3383764d",
   "metadata": {},
   "source": [
    "Create a new input:"
   ]
  },
  {
   "cell_type": "code",
   "execution_count": 81,
   "id": "d3b110b6-be9b-4fe0-bb86-1fd40ed003aa",
   "metadata": {},
   "outputs": [],
   "source": [
    "new_input=np.arange(1, 100, 1).reshape(-1, 1)"
   ]
  },
  {
   "cell_type": "markdown",
   "id": "bd784b83-5cd8-471a-832e-01c2ed4fff30",
   "metadata": {},
   "source": [
    "##### Fit the model:"
   ]
  },
  {
   "cell_type": "code",
   "execution_count": 82,
   "id": "c23ae586-82b1-4e5a-96a9-f4efd03d9c9b",
   "metadata": {},
   "outputs": [
    {
     "data": {
      "text/plain": [
       "LinearRegression()"
      ]
     },
     "execution_count": 82,
     "metadata": {},
     "output_type": "execute_result"
    }
   ],
   "source": [
    "lm.fit(X, Y)\n",
    "lm"
   ]
  },
  {
   "cell_type": "markdown",
   "id": "fb4a5226-b9ca-419b-aafc-da7135cf10df",
   "metadata": {},
   "source": [
    "##### Produce a prediction:"
   ]
  },
  {
   "cell_type": "code",
   "execution_count": 87,
   "id": "a6bd53d3-54f0-4348-8b07-8033ae67317a",
   "metadata": {},
   "outputs": [
    {
     "data": {
      "text/plain": [
       "array([37601.57247984, 36779.83910151, 35958.10572319, 35136.37234487,\n",
       "       34314.63896655])"
      ]
     },
     "execution_count": 87,
     "metadata": {},
     "output_type": "execute_result"
    }
   ],
   "source": [
    "yhat=lm.predict(new_input)\n",
    "yhat[0:5]"
   ]
  },
  {
   "cell_type": "code",
   "execution_count": null,
   "id": "f17b86f7-9930-4680-a4a7-3c05d33046fb",
   "metadata": {},
   "outputs": [],
   "source": []
  },
  {
   "cell_type": "markdown",
   "id": "e4684c88-571f-4bcf-be68-37ecd6ede28d",
   "metadata": {},
   "source": [
    "##### Plot the data"
   ]
  },
  {
   "cell_type": "code",
   "execution_count": 88,
   "id": "b29392cd-7027-4785-b8e0-d50407da2b1d",
   "metadata": {},
   "outputs": [
    {
     "data": {
      "image/png": "[encoded data removed]",
      "text/plain": [
       "<Figure size 432x288 with 1 Axes>"
      ]
     },
     "metadata": {
      "needs_background": "light"
     },
     "output_type": "display_data"
    }
   ],
   "source": [
    "plt.plot(new_input, yhat)\n",
    "plt.show()"
   ]
  },
  {
   "cell_type": "code",
   "execution_count": null,
   "id": "a9191348-b64e-41ef-9917-a43dbddc5bae",
   "metadata": {},
   "outputs": [],
   "source": []
  },
  {
   "cell_type": "code",
   "execution_count": null,
   "id": "86a5edbf-0049-410c-b575-fcbfcc59fa36",
   "metadata": {},
   "outputs": [],
   "source": []
  },
  {
   "cell_type": "markdown",
   "id": "9b034b37-2012-4e2d-b140-4ab7e3769083",
   "metadata": {},
   "source": [
    "#### Decision Making: Determining a Good Model Fit"
   ]
  },
  {
   "cell_type": "markdown",
   "id": "cfc7c8a9-1804-4865-a207-fe7823d842ff",
   "metadata": {},
   "source": [
    "Now that we have visualized the different models, and generated the R-squared and MSE values for the fits, how do we determine a good model fit?\n",
    "\n",
    "  - What is a good R-squared value?\n",
    "When comparing models, __the model with the higher R-squared value is a better fit__ for the data.\n",
    "\n",
    "  - What is a good MSE?\n",
    "When comparing models, __the model with the smallest MSE value is a better fit__ for the data.\n",
    "\n",
    "#### Let's take a look at the values for the different models. <br>\n",
    "Simple Linear Regression: Using Highway-mpg as a Predictor Variable of Price.<br>\n",
    "\n",
    " - R-squared: 0.49659118843391759 <br>\n",
    " - MSE: 3.16 x10^7 <br>\n",
    "\n",
    "Multiple Linear Regression: Using Horsepower, Curb-weight, Engine-size, and Highway-mpg as Predictor Variables of Price. <br> \n",
    "\n",
    " - R-squared: 0.80896354913783497 <br>\n",
    " - MSE: 1.2 x10^7 <br>\n",
    " \n",
    "Polynomial Fit: Using Highway-mpg as a Predictor Variable of Price. <br>\n",
    "\n",
    " - R-squared: 0.6741946663906514 <br>\n",
    " - MSE: 2.05 x 10^7 <br>"
   ]
  },
  {
   "cell_type": "code",
   "execution_count": null,
   "id": "9c3f79cd-d86b-4cd8-9132-c74dab0886ee",
   "metadata": {},
   "outputs": [],
   "source": []
  },
  {
   "cell_type": "markdown",
   "id": "79f8aee6-0725-4fe7-9e1d-174802e5bb12",
   "metadata": {},
   "source": [
    "#### Simple Linear Regression Model (SLR) vs Multiple Linear Regression Model (MLR)"
   ]
  },
  {
   "cell_type": "markdown",
   "id": "93c39af9-f7af-4bff-bc98-6cde71897da4",
   "metadata": {},
   "source": [
    "Usually, the more variables you have, the better your model is at predicting, but this is not always true. Sometimes you may not have enough data,<br>\n",
    "you may run into numerical problems, or many of the variables may not be useful and even act as noise. \n",
    "As a result, __you should always check the MSE and R^2.__\n",
    "\n",
    "In order to compare the results of the MLR vs SLR models, we look at a combination of both the R-squared and MSE to make the best conclusion about the fit of the model.\n",
    "\n",
    " - __MSE:__ The MSE of SLR is 3.16x10^7 while MLR has an MSE of 1.2 x10^7. The MSE of MLR is much smaller.\n",
    " - __R-squared:__ In this case, we can also see that there is a big difference between the R-squared of the SLR and the R-squared of the MLR. <br>\n",
    "   The R-squared for the SLR (~ 0.497) is very small compared to the R-squared for the MLR (~ 0.809).\n",
    "\n",
    "This R-squared in combination with the MSE show that MLR seems like the better model fit in this case compared to SLR."
   ]
  },
  {
   "cell_type": "code",
   "execution_count": null,
   "id": "1c931449-84d4-4397-b329-7b42a13679da",
   "metadata": {},
   "outputs": [],
   "source": []
  },
  {
   "cell_type": "markdown",
   "id": "4b933092-030d-4a63-81fe-95d75e4598b3",
   "metadata": {},
   "source": [
    "#### Simple Linear Model (SLR) vs. Polynomial Fit"
   ]
  },
  {
   "cell_type": "markdown",
   "id": "b0d16ae3-2c73-49c0-a9d3-07533afda69f",
   "metadata": {},
   "source": [
    " - __MSE:__ We can see that Polynomial Fit brought down the MSE, since this MSE is smaller than the one from the SLR.\n",
    " - __R-squared:__ The R-squared for the Polynomial Fit is larger than the R-squared for the SLR, so the Polynomial Fit also brought up the R-squared quite a bit.\n",
    "\n",
    "Since the Polynomial Fit resulted in a lower MSE and a higher R-squared, <br>\n",
    "we can conclude that this was a better fit model than the simple linear regression for predicting \"price\" with \"highway-mpg\" as a predictor variable."
   ]
  },
  {
   "cell_type": "code",
   "execution_count": null,
   "id": "c42ce96a-ff51-4c42-aed2-11edab365e02",
   "metadata": {},
   "outputs": [],
   "source": []
  },
  {
   "cell_type": "markdown",
   "id": "ec19e713-aa0b-4fb2-810a-f7a267f9351a",
   "metadata": {},
   "source": [
    "#### Multiple Linear Regression (MLR) vs. Polynomial Fit"
   ]
  },
  {
   "cell_type": "markdown",
   "id": "381bc8e0-4ac7-4096-9642-c0bf2cb5a86c",
   "metadata": {},
   "source": [
    " - __MSE:__ The MSE for the MLR is smaller than the MSE for the Polynomial Fit.\n",
    " - __R-squared:__ The R-squared for the MLR is also much larger than for the Polynomial Fit."
   ]
  },
  {
   "cell_type": "code",
   "execution_count": null,
   "id": "719f67db-02d7-483c-8f58-6559bba21c80",
   "metadata": {},
   "outputs": [],
   "source": []
  },
  {
   "cell_type": "markdown",
   "id": "305a8611-9e24-46da-b9fd-ccba363f2560",
   "metadata": {},
   "source": [
    "### Conclusion"
   ]
  },
  {
   "cell_type": "markdown",
   "id": "e505ae04-32f3-417f-be63-5ffac6747ebd",
   "metadata": {},
   "source": [
    "Comparing these three models, we conclude that __the MLR model is the best model__ to be able to predict price from our dataset. <br>\n",
    "This result makes sense since we have 27 variables in total and we know that more than one of those variables are potential predictors of the final car price."
   ]
  },
  {
   "cell_type": "code",
   "execution_count": null,
   "id": "94f0bae8-b50d-4a82-b205-0c44b4318019",
   "metadata": {},
   "outputs": [],
   "source": []
  }
 ],
 "metadata": {
  "kernelspec": {
   "display_name": "Python 3 (ipykernel)",
   "language": "python",
   "name": "python3"
  },
  "language_info": {
   "codemirror_mode": {
    "name": "ipython",
    "version": 3
   },
   "file_extension": ".py",
   "mimetype": "text/x-python",
   "name": "python",
   "nbconvert_exporter": "python",
   "pygments_lexer": "ipython3",
   "version": "3.9.7"
  }
 },
 "nbformat": 4,
 "nbformat_minor": 5
}
